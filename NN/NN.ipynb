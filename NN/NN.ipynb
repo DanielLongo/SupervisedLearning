{
 "cells": [
  {
   "cell_type": "markdown",
   "metadata": {},
   "source": [
    "Simple Vanilla Neural Net "
   ]
  },
  {
   "cell_type": "markdown",
   "metadata": {},
   "source": [
    "#### PROJECT ROADMAP TO-DOs\n",
    "\n",
    "- [] Flush out deep NN model, try adding 3-5 *layers*, and experiment with different sizes of those layers. Take it to the extremes, and try adding ~10+ layers to see how that changes the model.\n",
    "\n",
    "- [ ] Graph out accuracies of shallow AND deep models \n",
    "\n",
    "- [x] Explore the ideas of precision / recall, F1 score (read up about this). Write functions to calculate precision() and recall() for your models. Run these functions on ShallowNN, Logistic model, and DeepNN. Write function to compute F1 score -- compute_f1_score(), and run the same tests.\n",
    "\n",
    "- [] Tune and *graph* different hyper-parameter experiments (lr, epoch, etc). \n",
    "\n",
    "- [] Try training on another data set (this can be another image set OR non-image data) "
   ]
  },
  {
   "cell_type": "code",
   "execution_count": 88,
   "metadata": {
    "collapsed": true
   },
   "outputs": [],
   "source": [
    "#Image classifer with logistic regression\n",
    "#images shape(width,height,3(rgb))\n",
    "\n",
    "###to knit to html ipython nbconvert --to html [NEWFILENAME].html\n",
    "import numpy as np\n",
    "import scipy \n",
    "import os\n",
    "import matplotlib.pyplot as plt\n",
    "import math\n",
    "from scipy import ndimage\n",
    "from skimage import io\n",
    "from PIL import Image\n",
    "import sys\n",
    "#from basicFunctions import crossEntropyLoss \n",
    " "
   ]
  },
  {
   "cell_type": "code",
   "execution_count": 57,
   "metadata": {
    "collapsed": true
   },
   "outputs": [],
   "source": [
    "# Global Constants\n",
    "side_length = 100\n",
    "image_path = \"../Data/Logistic_Regression_Data/\"\n",
    "test_ratio = .3\n",
    "epoch = 7000\n",
    "learning_rate = .2\n",
    "max_num_images = 300"
   ]
  },
  {
   "cell_type": "code",
   "execution_count": 3,
   "metadata": {
    "collapsed": true
   },
   "outputs": [],
   "source": [
    "def getImageArrays(path, side_length): #returns list of images arrays for a specified path\n",
    "    image_names = os.listdir(path)\n",
    "    image_names = image_names[:max_num_images]\n",
    "    examples = []\n",
    "    for image_name in image_names:\n",
    "        if image_name.split(\".\")[-1] != \"DS_Store\":\n",
    "            try:\n",
    "                cur_image_path = path + image_name\n",
    "                cur_image = np.array(ndimage.imread(cur_image_path,flatten=False))\n",
    "                cur_array_resized = scipy.misc.imresize(cur_image,size=(side_length,side_length))\n",
    "                cur_array_flattened = cur_array_resized.reshape((side_length*side_length*3)).T\n",
    "\n",
    "                examples += [cur_array_flattened] \n",
    "            except ValueError:\n",
    "                print(\"Error in creating examples\",image_name)\n",
    "                \n",
    "    return examples"
   ]
  },
  {
   "cell_type": "code",
   "execution_count": 4,
   "metadata": {},
   "outputs": [
    {
     "name": "stdout",
     "output_type": "stream",
     "text": [
      "Error in creating examples notcow197.jpg\n",
      "Error in creating examples notcow20.jpg\n",
      "Number of Examples: 596\n",
      "Number of Labels: 596\n"
     ]
    }
   ],
   "source": [
    "#create examples & labels\n",
    "cow_images_path = image_path + \"cows/\"\n",
    "notCow_image_path = image_path + \"notcows/\"\n",
    "\n",
    "examples_cow = getImageArrays(cow_images_path, side_length)\n",
    "labels_cow = np.ones(len(examples_cow))\n",
    "examples_notCow = getImageArrays(notCow_image_path, side_length)\n",
    "labels_notCow = np.zeros(len(examples_notCow))\n",
    "\n",
    "examples_cow = np.array(examples_cow)\n",
    "examples_notCow = np.array(examples_notCow)\n",
    "#assert(examples_cow.shape[1:] == (side_length,side_length,3)), \"examples_cow are invalid shape\"\n",
    "examples = np.concatenate((examples_cow,examples_notCow))\n",
    "labels = np.concatenate((labels_cow,labels_notCow))\n",
    "print(\"Number of Examples:\",len(examples))\n",
    "print(\"Number of Labels:\",len(labels))\n"
   ]
  },
  {
   "cell_type": "code",
   "execution_count": 5,
   "metadata": {
    "collapsed": true
   },
   "outputs": [],
   "source": [
    "shuffled_indexing = np.random.permutation(labels.shape[0])\n",
    "examples = examples[shuffled_indexing]\n",
    "labels = labels[shuffled_indexing]"
   ]
  },
  {
   "cell_type": "code",
   "execution_count": 6,
   "metadata": {},
   "outputs": [
    {
     "name": "stdout",
     "output_type": "stream",
     "text": [
      "Number of training examples:  (30000, 418)\n",
      "Number of test examples:  (30000, 178)\n",
      "(418,)\n"
     ]
    }
   ],
   "source": [
    "#seperate train and test examples\n",
    "number_examples_test = int(len(examples)*test_ratio)\n",
    "number_labels_test = int(len(labels)*test_ratio)\n",
    "\n",
    "examples_test = examples[:number_examples_test]\n",
    "examples_train = examples[number_examples_test:]\n",
    "labels_test = labels[:number_labels_test]\n",
    "labels_train = labels[number_labels_test:]\n",
    "print(\"Number of training examples: \", examples_train.T.shape)\n",
    "print(\"Number of test examples: \", examples_test.T.shape)\n",
    "print(labels_train.shape)"
   ]
  },
  {
   "cell_type": "code",
   "execution_count": 7,
   "metadata": {
    "collapsed": true
   },
   "outputs": [],
   "source": [
    "#reshape labels for future matrix operations\n",
    "labels_train = np.reshape(labels_train,(1,len(labels_train)))\n",
    "labels_test = np.reshape(labels_test,(1,len(labels_test)))"
   ]
  },
  {
   "cell_type": "code",
   "execution_count": 8,
   "metadata": {
    "collapsed": true
   },
   "outputs": [],
   "source": [
    "#flatten examples\n",
    "# flattened_train_examples = examples_train.reshape(examples_train.shape[0], -1).T\n",
    "# flattened_test_examples = examples_test.reshape(examples_test.shape[0], -1).T  \n",
    "# print(\"flattened examples\",flattened_test_examples.shape,flattened_train_examples.shape)\n",
    "flattened_train_examples = examples_train.T\n",
    "flattened_test_examples = examples_test.T"
   ]
  },
  {
   "cell_type": "code",
   "execution_count": 9,
   "metadata": {},
   "outputs": [
    {
     "name": "stdout",
     "output_type": "stream",
     "text": [
      "standardized (30000, 178) (30000, 418)\n"
     ]
    }
   ],
   "source": [
    "# Standardize color values of the image (decrease computational cost durring cross entropy)\n",
    "standardized_train_examples = flattened_train_examples/255 #225 is the maximum rgb value/ This is done to decrease varaince in inputs thus more efficint\n",
    "standardized_test_examples = flattened_test_examples/255\n",
    "print(\"standardized\",standardized_test_examples.shape,standardized_train_examples.shape)"
   ]
  },
  {
   "cell_type": "code",
   "execution_count": 10,
   "metadata": {
    "collapsed": true
   },
   "outputs": [],
   "source": [
    "def crossEntropyLoss(a,Y):\n",
    "    num_of_examples = Y.shape[1] #len(Y) doesn't work, need 2nd dimesnion\n",
    "    a = a.T\n",
    "    loss = - (1.0 / num_of_examples) * (np.dot((1.0 - Y), np.log(1.0 - a)) + np.dot(Y, np.log(a)))\n",
    "    return loss"
   ]
  },
  {
   "cell_type": "code",
   "execution_count": 11,
   "metadata": {
    "collapsed": true
   },
   "outputs": [],
   "source": [
    "def sigmoid(x):\n",
    "    output = 1.0/(1.0+np.exp(-x))\n",
    "    cached_value = x\n",
    "    cached_value = {\"out_a\":x}\n",
    "    return output, cached_value"
   ]
  },
  {
   "cell_type": "code",
   "execution_count": 12,
   "metadata": {
    "collapsed": true
   },
   "outputs": [],
   "source": [
    "def relu(x,leaky=0):\n",
    "    output = np.maximum(leaky,x)\n",
    "#     cached_value = x\n",
    "    cached_value = {\"out_a\":x}\n",
    "    return output, cached_value\n",
    "    "
   ]
  },
  {
   "cell_type": "code",
   "execution_count": 13,
   "metadata": {
    "collapsed": true
   },
   "outputs": [],
   "source": [
    "def initialize_params_shallow(input_layer, hidden_layer, output_layer):\n",
    "    w1 = np.random.randn(hidden_layer,input_layer)\n",
    "    w2 = np.random.randn(output_layer,hidden_layer)\n",
    "    #np.random.randn gives numbers larger than 1 so: (vanishing/exploading gradients)\n",
    "    w1,w2 = w1 * .01, w2 * .01\n",
    "    \n",
    "    #is it by one because of broadcasting \n",
    "    b1 = np.zeros((hidden_layer,1))\n",
    "    b2 = np.zeros((output_layer,1))\n",
    "    \n",
    "    assert(w1.shape == (hidden_layer, input_layer))\n",
    "    assert(w2.shape == (output_layer, hidden_layer))\n",
    "    assert(b1.shape == (hidden_layer,1))\n",
    "    assert(b2.shape == (output_layer,1))\n",
    "    \n",
    "    return {\"w1\":w1,\"w2\":w2,\"b1\":b1,\"b2\":b2}"
   ]
  },
  {
   "cell_type": "code",
   "execution_count": 14,
   "metadata": {
    "collapsed": true
   },
   "outputs": [],
   "source": [
    "def initialize_params_deep(input_layer, hidden_layers, output_layer):\n",
    "#     np.random.seed(3) #non random random numbers (will get the same random numbers each time) used for testing\n",
    "    layers = {} #dictionary of weights and biasis\n",
    "    previous_layer = input_layer #sets the begining shape as shape of input layer\n",
    "    for i in range(len(hidden_layers)):\n",
    "        cur_layer = hidden_layers[i]\n",
    "        weights = np.random.randn(cur_layer,previous_layer)\n",
    "        weights *= .01 #because np.random.rand returns numbers too large, more efficeint durring gradient descensed \n",
    "        bias = np.zeros((cur_layer,1))\n",
    "        cur_weights_key = \"w\" + str(i + 1) # i + 1 because humans like things indexed at 0\n",
    "        cur_bias_key = \"b\" + str(i + 1)\n",
    "        layers[cur_weights_key] = weights\n",
    "        layers[cur_bias_key] = bias \n",
    "        \n",
    "        assert(layers[\"w\" + str(i + 1)].shape == (cur_layer, previous_layer))\n",
    "        assert(layers[\"b\" + str(i + 1)].shape == (cur_layer,1))\n",
    "        \n",
    "        previous_layer = cur_layer\n",
    "\n",
    "    layers[\"w\" + str(len(hidden_layers) + 1)] = np.random.randn(output_layer,previous_layer) * .01\n",
    "    layers[\"b\" + str(len(hidden_layers) + 1)] = np.zeros((output_layer,1))\n",
    "\n",
    "    return layers"
   ]
  },
  {
   "cell_type": "code",
   "execution_count": 15,
   "metadata": {
    "collapsed": true
   },
   "outputs": [],
   "source": [
    "def linear_forward_prop(a,w,b): #a because a is from the past layer\n",
    "#     print(\"Before Transpose -- A:\",a.shape,\"W:\",w.shape,\"B:\",b.shape)\n",
    "#     print(\"After Transpose -- A:\",a.shape,\"W:\",w.shape,\"B:\",b.shape)\n",
    "    z = np.dot(w,a) + b\n",
    "#     print(\"z:\",z.shape)\n",
    "#     print(\"z\",z.shape,\"a\",a.shape[0],\"w\",w.shape[1],\"b\",b.shape)\n",
    "#     assert(z.shape == (a.shape[0], w.shape[1] ))\n",
    "    #     assert(z.shape == np.dot(a,w).shape)\n",
    "    cached_inputs = {\"in_a\":a,\"w\":w,\"b\":b,\"z\":z} #(a,w,b)\n",
    "    return z,cached_inputs\n",
    "    "
   ]
  },
  {
   "cell_type": "code",
   "execution_count": 16,
   "metadata": {
    "collapsed": true
   },
   "outputs": [],
   "source": [
    "def singleFowardPropagation(X,w,b,activationType,leaky=0): #TODO change x to a\n",
    "#     cached_inputs = {\"w\":None,\"x\":None,\"b\":None,\"z\":None}\n",
    "    z,cached_values = linear_forward_prop(X,w,b)\n",
    "    if activationType == \"sigmoid\":\n",
    "        a, activation_cache = sigmoid(z)\n",
    "    if activationType == \"relu\":\n",
    "        a, activation_cache = relu(z,leaky=leaky)\n",
    "    cached_values.update(activation_cache)\n",
    "    return a, cached_values"
   ]
  },
  {
   "cell_type": "code",
   "execution_count": 17,
   "metadata": {
    "collapsed": true
   },
   "outputs": [],
   "source": [
    "def fowardPropagate(X,params):\n",
    "    num_layers = len(params) // 2 #// rounds down\n",
    "    #assert len params is even\n",
    "    a = X\n",
    "    cached_values = []\n",
    "    for i in range(1,num_layers):\n",
    "        w = params[\"w\" + str(i)]\n",
    "        b = params[\"b\" + str(i)]\n",
    "        past_a = a\n",
    "        a, cur_cached = singleFowardPropagation(past_a,w,b,\"relu\")\n",
    "        cached_values += [cur_cached] #TODO: get foramt of cached values \n",
    "        \n",
    "    w = params[\"w\" + str(num_layers)]\n",
    "    b = params[\"b\" + str(num_layers)]\n",
    "    a, cur_cached = singleFowardPropagation(a,w,b,\"sigmoid\")\n",
    "    cached_values += [cur_cached] \n",
    "    #write assert statemt here\n",
    "    return a, cached_values"
   ]
  },
  {
   "cell_type": "code",
   "execution_count": 18,
   "metadata": {
    "collapsed": true
   },
   "outputs": [],
   "source": [
    "def linearBackprop(cached_values, dZ):\n",
    "    a = cached_values[\"in_a\"]\n",
    "    w = cached_values[\"w\"]\n",
    "    b = cached_values[\"b\"]\n",
    "    number_examples = a.shape[1]\n",
    "    dW = (1.0/number_examples) * np.dot(dZ,a.T)\n",
    "    dB = (1.0/number_examples) * np.sum(dZ, axis = 1, keepdims= True)\n",
    "    dA = np.dot(w.T, dZ)\n",
    "    return {\"dW\":dW,\"dB\":dB,\"dA\":dA}\n",
    "    \n",
    "    "
   ]
  },
  {
   "cell_type": "code",
   "execution_count": 19,
   "metadata": {
    "collapsed": true
   },
   "outputs": [],
   "source": [
    "def relu_backward(dA, z):\n",
    "    dZ = np.array(dA, copy=True) #convert dA to np array\n",
    "    dZ[z <= 0] = 0\n",
    "    return dZ\n",
    "    "
   ]
  },
  {
   "cell_type": "code",
   "execution_count": 20,
   "metadata": {
    "collapsed": true
   },
   "outputs": [],
   "source": [
    "def sigmoid_backward(dA, z):\n",
    "    s = 1/(1 + np.exp(-z))\n",
    "    dz = dA * s * (1-s) \n",
    "    \n",
    "    return dz"
   ]
  },
  {
   "cell_type": "code",
   "execution_count": 21,
   "metadata": {
    "collapsed": true
   },
   "outputs": [],
   "source": [
    "def backwards_activation(dA, cached_values, activation_type):\n",
    "    if activation_type == \"sigmoid\":\n",
    "        dZ = sigmoid_backward(dA, cached_values[\"z\"])\n",
    "    if activation_type == \"relu\":\n",
    "        dZ = relu_backward(dA, cached_values[\"z\"])\n",
    "    gradients = linearBackprop(cached_values, dZ)\n",
    "    return gradients\n",
    "    \n",
    "    #todo write optimizer function\n",
    "        \n",
    "        \n",
    "    "
   ]
  },
  {
   "cell_type": "code",
   "execution_count": 22,
   "metadata": {
    "collapsed": true
   },
   "outputs": [],
   "source": [
    "def backprop(a, cached_values, y):\n",
    "    gradients = {}\n",
    "    num_layers = len(cached_values)\n",
    "    y = y.reshape(a.shape)\n",
    "\n",
    "    dFinalA = -(np.divide(y,a) - np.divide(1-y, 1-a)) #dervivative of output of foward pass \n",
    "    backwards_activation_output_0 = backwards_activation(dFinalA, cached_values[-1],\"sigmoid\")\n",
    "    \n",
    "    gradients[\"dW\" + str(num_layers)] = backwards_activation_output_0[\"dW\"]\n",
    "    gradients[\"dB\" + str(num_layers)] = backwards_activation_output_0[\"dB\"]\n",
    "    gradients[\"dA\" + str(num_layers - 1)] = backwards_activation_output_0[\"dA\"]\n",
    "    \n",
    "    for i in reversed(range(num_layers - 1)):\n",
    "        past_layer = cached_values[i]\n",
    "        cur_dLayer = backwards_activation(gradients[\"dA\" + str(i + 1)], past_layer, \"relu\")\n",
    "        gradients[\"dW\" + str(i + 1)] = cur_dLayer[\"dW\"]\n",
    "        gradients[\"dB\" + str(i + 1)] = cur_dLayer[\"dB\"]\n",
    "        gradients[\"dA\" + str(i)] = cur_dLayer[\"dA\"]\n",
    "    return gradients"
   ]
  },
  {
   "cell_type": "code",
   "execution_count": 23,
   "metadata": {
    "collapsed": true
   },
   "outputs": [],
   "source": [
    "def optimize(grads,params, learning_rate):\n",
    "    num_layers = len(params)//2\n",
    "    for i in range(num_layers): #subtraction\n",
    "#         print(\"lr\",learning_rate)\n",
    "#         print(\"w-before (\", str(i+1), \"): \", params[\"w\" + str(i +1)])\n",
    "#         print(\"b-before (\", str(i+1), \"): \", params[\"b\" + str(i +1)])\n",
    "#         print(\"------------\")\n",
    "#         print(\"dW\",grads[\"dW\" + str(i + 1)])\n",
    "#         print(\"dB\",grads[\"dB\" + str(i + 1)])\n",
    "        params[\"w\" + str(i +1)] = params[\"w\" + str(i + 1)] - (grads[\"dW\" + str(i + 1)] * learning_rate)\n",
    "        params[\"b\" + str(i + 1)] = params[\"b\" + str(i + 1)] - (grads[\"dB\" + str(i + 1)] * learning_rate)\n",
    "#         print(\"w-after (\", str(i+1), \"): \", params[\"w\" + str(i +1)])\n",
    "#         print(\"b-after (\", str(i+1), \"): \", params[\"b\" + str(i +1)])\n",
    "    return params"
   ]
  },
  {
   "cell_type": "code",
   "execution_count": 24,
   "metadata": {
    "collapsed": true
   },
   "outputs": [],
   "source": [
    "input_layer = 12288 #change to side length*length*3 \n",
    "hidden_layer = 7\n",
    "output_layer = 1"
   ]
  },
  {
   "cell_type": "code",
   "execution_count": 25,
   "metadata": {
    "collapsed": true
   },
   "outputs": [],
   "source": [
    "def shallowNN(X,y,epoch,lr,input_layer,hidden_layer,output_layer):\n",
    "    params = initialize_params_shallow(input_layer,hidden_layer,output_layer)\n",
    "    costs = []\n",
    "    grads = {}\n",
    "    for i in range(epoch):\n",
    "        w1 = params[\"w1\"]\n",
    "        w2 = params[\"w2\"]\n",
    "        b1 = params[\"b1\"]\n",
    "        b2 = params[\"b2\"]\n",
    "        a1, cached_values1 = singleFowardPropagation(X,w1,b1,\"relu\")\n",
    "        a2, cached_values2 = singleFowardPropagation(a1,w2,b2,\"sigmoid\")\n",
    "        # backwards [end] (1,710) --> (7,710) --> (exmample size,710) [start]\n",
    "        cost = crossEntropyLoss(a2,y)\n",
    "        dFinalA = -(np.divide(y,a2) - np.divide(1.0-y, 1.0-a2))\n",
    "#         print(\"dfinal a\", dFinalA.shape)\n",
    "        backwards_activation_output_0 = backwards_activation(dFinalA, cached_values2,\"sigmoid\")\n",
    "#         print(\"penultimate activation\",np.shape(backwards_activation_output_0[\"dA\"]))\n",
    "        backwards_activation_output_1 = backwards_activation(backwards_activation_output_0[\"dA\"], cached_values1,\"relu\")\n",
    "#         print(\"last activation\",np.shape(backwards_activation_output_1[\"dA\"]))\n",
    "        grads[\"dW1\"] = backwards_activation_output_1[\"dW\"]\n",
    "        grads[\"dW2\"] = backwards_activation_output_0[\"dW\"]\n",
    "        grads[\"dB1\"] = backwards_activation_output_1[\"dB\"]\n",
    "        grads[\"dB2\"] = backwards_activation_output_0[\"dB\"]\n",
    "        params = optimize(grads, params, learning_rate)\n",
    "        \n",
    "        costs += [cost]\n",
    "        if i % 100 == 0:\n",
    "            print(\"Costs @ \" + str(i) + \":\",cost)    \n",
    "    return params, costs"
   ]
  },
  {
   "cell_type": "code",
   "execution_count": 26,
   "metadata": {
    "collapsed": true
   },
   "outputs": [],
   "source": [
    "def shallowNNTest(X,y,params):\n",
    "    w1 = params[\"w1\"]\n",
    "    w2 = params[\"w2\"]\n",
    "    b1 = params[\"b1\"]\n",
    "    b2 = params[\"b2\"]\n",
    "    a1, cached_values1 = singleFowardPropagation(X,w1,b1,\"relu\")\n",
    "    a2, cached_values2 = singleFowardPropagation(a1,w2,b2,\"sigmoid\")\n",
    "    loss = 1 - np.mean(np.abs(a2-y))\n",
    "    print(\"Test Accuracey:\",loss * 100,\"%\")\n",
    "    return loss "
   ]
  },
  {
   "cell_type": "code",
   "execution_count": 27,
   "metadata": {},
   "outputs": [
    {
     "name": "stdout",
     "output_type": "stream",
     "text": [
      "Costs @ 0: [[ 0.69252566]]\n",
      "Costs @ 100: [[ 0.6403955]]\n",
      "Costs @ 200: [[ 0.50176175]]\n",
      "Costs @ 300: [[ 0.4987403]]\n",
      "Costs @ 400: [[ 0.4446108]]\n",
      "Costs @ 500: [[ 0.41360502]]\n",
      "Costs @ 600: [[ 0.40492271]]\n",
      "Costs @ 700: [[ 0.36510672]]\n",
      "Costs @ 800: [[ 0.34548186]]\n",
      "Costs @ 900: [[ 0.30250976]]\n",
      "Costs @ 1000: [[ 0.20765576]]\n",
      "Costs @ 1100: [[ 0.17029188]]\n",
      "Costs @ 1200: [[ 0.14568449]]\n",
      "Costs @ 1300: [[ 0.12733834]]\n",
      "Costs @ 1400: [[ 0.10749311]]\n",
      "Costs @ 1500: [[ 0.0926972]]\n",
      "Costs @ 1600: [[ 0.10048525]]\n",
      "Costs @ 1700: [[ 0.07078047]]\n",
      "Costs @ 1800: [[ 0.05521385]]\n",
      "Costs @ 1900: [[ 0.04458302]]\n"
     ]
    }
   ],
   "source": [
    "X = standardized_train_examples\n",
    "y = labels_train\n",
    "input_layer = side_length * side_length * 3\n",
    "hidden_layer = 7\n",
    "output_layer = 1\n",
    "learning_rate = .01\n",
    "params,costs = shallowNN(X,y,2000,learning_rate,input_layer,hidden_layer,output_layer)"
   ]
  },
  {
   "cell_type": "code",
   "execution_count": 28,
   "metadata": {},
   "outputs": [
    {
     "name": "stdout",
     "output_type": "stream",
     "text": [
      "Test Accuracey: 73.4149795332 %\n"
     ]
    }
   ],
   "source": [
    "X = standardized_test_examples\n",
    "y = labels_test\n",
    "loss = shallowNNTest(X,y,params)"
   ]
  },
  {
   "cell_type": "code",
   "execution_count": 45,
   "metadata": {
    "collapsed": true
   },
   "outputs": [],
   "source": [
    "def deepNN(X,y,epoch,lr,input_layer,hidden_layers,output_layer):\n",
    "    params = initialize_params_deep(input_layer,hidden_layers,output_layer)\n",
    "    costs = []\n",
    "    print(\"params\",len(params))\n",
    "    for i in range(epoch):\n",
    "        a, cache = fowardPropagate(X,params)\n",
    "        cost = crossEntropyLoss(a,y)\n",
    "        grads = backprop(a, cache, y)\n",
    "        params = optimize(grads, params, lr)\n",
    "        if i % 200 == 0:\n",
    "            print(\"Cost @\",i,cost)\n",
    "        costs += [cost]\n",
    "    return params,costs\n",
    "            \n",
    "        \n",
    "        \n",
    "        "
   ]
  },
  {
   "cell_type": "code",
   "execution_count": 133,
   "metadata": {
    "collapsed": true
   },
   "outputs": [],
   "source": [
    "#works only for binary classification\n",
    "def precision(preds,y):\n",
    "    preds = np.abs(np.round(preds))\n",
    "    p_predict = np.sum(preds) #number of positives \n",
    "    tP = np.sum(preds*y)\n",
    "    return tP/p_predict\n",
    "\n",
    "def recall(preds,y):\n",
    "    preds = np.abs(np.round(preds))\n",
    "    tP = np.sum(preds*y)\n",
    "    new_preds = np.array(preds)\n",
    "    new_preds[new_preds == 0] = -1\n",
    "    #all 0 are now -1 in preds\n",
    "    product = new_preds * y\n",
    "    # after multiplying the only -1s left are false negatives\n",
    "    fN = len(product[product == -1])\n",
    "    return tP / (tP + fN)"
   ]
  },
  {
   "cell_type": "code",
   "execution_count": 135,
   "metadata": {
    "collapsed": true
   },
   "outputs": [],
   "source": [
    "def deepNNEval(X, y, params):\n",
    "    a, _ = fowardPropagate(X,params)\n",
    "    loss = np.mean(np.abs(a-y))\n",
    "    precision_score = precision(a,y)\n",
    "    recall_score = recall(a,y)\n",
    "    print(\"Loss:\", loss)\n",
    "    print(\"Percision:\", precision_score)\n",
    "    print(\"Recall:\", recall_score)\n",
    "    return loss, precision_score, recall_score"
   ]
  },
  {
   "cell_type": "code",
   "execution_count": 31,
   "metadata": {
    "collapsed": true
   },
   "outputs": [
    {
     "name": "stdout",
     "output_type": "stream",
     "text": [
      "Cost @ 0 [[ 0.69314594]]\n",
      "Cost @ 200 [[ 0.69267378]]\n",
      "Cost @ 400 [[ 0.69249364]]\n",
      "Cost @ 600 [[ 0.69241607]]\n",
      "Cost @ 800 [[ 0.69236703]]\n",
      "Cost @ 1000 [[ 0.69230957]]\n",
      "Cost @ 1200 [[ 0.69220046]]\n",
      "Cost @ 1400 [[ 0.69191943]]\n",
      "Cost @ 1600 [[ 0.69091971]]\n",
      "Cost @ 1800 [[ 0.68572704]]\n",
      "Cost @ 2000 [[ 0.65553093]]\n",
      "Cost @ 2200 [[ 0.58673277]]\n",
      "Cost @ 2400 [[ 0.48766775]]\n",
      "Cost @ 2600 [[ 0.41945736]]\n",
      "Cost @ 2800 [[ 0.3421487]]\n",
      "Cost @ 3000 [[ 0.28894341]]\n",
      "Cost @ 3200 [[ 0.22854561]]\n",
      "Cost @ 3400 [[ 0.75844304]]\n",
      "Cost @ 3600 [[ 0.13287533]]\n",
      "Cost @ 3800 [[ 0.11074437]]\n",
      "Cost @ 4000 [[ 0.06864941]]\n",
      "Cost @ 4200 [[ 0.05149643]]\n",
      "Cost @ 4400 [[ 0.03810955]]\n",
      "Cost @ 4600 [[ 0.02992505]]\n",
      "Cost @ 4800 [[ 0.02383721]]\n"
     ]
    }
   ],
   "source": [
    "X = standardized_train_examples\n",
    "y = labels_train\n",
    "input_layer = side_length * side_length * 3\n",
    "hidden_layers = [7, 5]\n",
    "output_layer = 1\n",
    "learning_rate = .01\n",
    "params, costs = deepNN(X,y,5000,learning_rate,input_layer,hidden_layers,output_layer)"
   ]
  },
  {
   "cell_type": "code",
   "execution_count": 136,
   "metadata": {
    "scrolled": false
   },
   "outputs": [
    {
     "name": "stdout",
     "output_type": "stream",
     "text": [
      "Loss: 0.273606551433\n",
      "Percision: 0.767676767677\n",
      "Recall: 0.775510204082\n"
     ]
    }
   ],
   "source": [
    "X = standardized_test_examples\n",
    "y = labels_test\n",
    "loss,_,_ = deepNNEval(X,y,params)"
   ]
  },
  {
   "cell_type": "code",
   "execution_count": 33,
   "metadata": {
    "collapsed": true
   },
   "outputs": [],
   "source": [
    "def getImage(image_path,side_length,show=True):\n",
    "    if (image_path.split(\":\")[0] == \"http\") or (image_path.split(\":\")[0] == \"https\"):\n",
    "        try:\n",
    "            image = io.imread(image_path)\n",
    "        except:\n",
    "            print(\"Sorry, but this url forbids requests from machines :(\")\n",
    "            assert(5 == 4)\n",
    "    else:\n",
    "        image = np.array(ndimage.imread(image_path, flatten=False))\n",
    "    if show == True:\n",
    "        io.imshow(image)\n",
    "        io.show()\n",
    "    array_resized = scipy.misc.imresize(image, size=(side_length,side_length))\n",
    "    array_flattened = array_resized.reshape((side_length*side_length*3, 1))\n",
    "    array_standardized = array_flattened/225\n",
    "    return array_standardized "
   ]
  },
  {
   "cell_type": "code",
   "execution_count": 34,
   "metadata": {
    "collapsed": true
   },
   "outputs": [],
   "source": [
    "def classify(image_path, params):\n",
    "    side_length = int((params[\"w1\"].shape[1]/3) ** .5)\n",
    "    image_array = getImage(image_path, side_length)\n",
    "    label,_ = fowardPropagate(image_array,params)\n",
    "    if round(label[0][0]) == 1:\n",
    "        print(\"Mœ\",label[0][0])\n",
    "    if round(label[0][0]) == 0:\n",
    "        print(\"This is not a cow\",label[0][0])\n",
    "    "
   ]
  },
  {
   "cell_type": "code",
   "execution_count": 39,
   "metadata": {
    "collapsed": true
   },
   "outputs": [],
   "source": [
    "def plot_costs(run_costs,label=None):\n",
    "    run_costs = np.array(run_costs) #makes costs one array instead of list of arrays\n",
    "    run_costs = np.squeeze(run_costs)\n",
    "    print(\"Run Costs\",run_costs[:20])\n",
    "    sample_timestep = 1\n",
    "    x = np.arange(0,len(run_costs),sample_timestep) \n",
    "    plt.plot(x, run_costs, label=label)"
   ]
  },
  {
   "cell_type": "code",
   "execution_count": 40,
   "metadata": {
    "collapsed": true
   },
   "outputs": [],
   "source": [
    "def compare_runs(train_X,train_Y,test_X,test_Y, run_params, intput_layer): \n",
    "    test_losses = []\n",
    "    for run in run_params:\n",
    "        cur_learning_rate = run[\"learning_rate\"]\n",
    "        cur_epoch = run[\"epoch\"]\n",
    "        cur_hidden = run[\"hidden\"]\n",
    "        print(\"Run {epoch: \" + str(cur_epoch) + \", lr: \" + str(cur_learning_rate) + \", hidden: \" + str(cur_hidden) + \"}\")\n",
    "        cur_params, cur_costs = deepNN(train_X,train_Y,cur_epoch, cur_learning_rate, input_layer, cur_hidden,1)\n",
    "        cur_label = \"epoch: \" + str(cur_epoch) + \", lr: \" + str(cur_learning_rate) + \", hidden: \" + str(cur_hidden) + \"\"\n",
    "        cur_test_loss = deepNNEval(test_X,test_Y,cur_params)\n",
    "#         print(:cur)\n",
    "        test_losses += [cur_test_loss]\n",
    "        plot_costs(cur_costs,cur_label)\n",
    "    plt.xlabel('Epoch')\n",
    "    plt.ylabel('Loss')\n",
    "    plt.legend(bbox_to_anchor=(1.05, 1), loc=2, borderaxespad=0.)\n",
    "    plt.show()\n",
    "    return test_losses\n",
    "        "
   ]
  },
  {
   "cell_type": "code",
   "execution_count": 46,
   "metadata": {},
   "outputs": [
    {
     "name": "stdout",
     "output_type": "stream",
     "text": [
      "Run {epoch: 100, lr: 0.01, hidden: [10, 20, 4, 8, 3]}\n",
      "params 12\n",
      "Cost @ 0 [[ 0.69314718]]\n",
      "0.50042866861 0.449438202247\n",
      "Run Costs [ 0.69314718  0.69314352  0.69313988  0.69313625  0.69313265  0.69312906\n",
      "  0.69312549  0.69312194  0.69311841  0.69311489  0.6931114   0.69310792\n",
      "  0.69310445  0.69310101  0.69309758  0.69309417  0.69309077  0.69308739\n",
      "  0.69308403  0.69308069]\n",
      "Run {epoch: 100, lr: 0.1, hidden: [7, 5, 3]}\n",
      "params 8\n",
      "Cost @ 0 [[ 0.69314719]]\n",
      "0.501781214933 0.449438202247\n",
      "Run Costs [ 0.69314719  0.69311101  0.69307662  0.69304394  0.69301286  0.69298332\n",
      "  0.69295524  0.69292855  0.69290317  0.69287905  0.69285611  0.69283431\n",
      "  0.69281359  0.69279389  0.69277516  0.69275736  0.69274043  0.69272434\n",
      "  0.69270905  0.69269451]\n"
     ]
    },
    {
     "data": {
      "image/png": "[encoded data removed]",
      "text/plain": [
       "<matplotlib.figure.Figure at 0x110355320>"
      ]
     },
     "metadata": {},
     "output_type": "display_data"
    }
   ],
   "source": [
    "train_X = standardized_train_examples\n",
    "train_y = labels_train\n",
    "test_X = standardized_test_examples\n",
    "test_y = labels_test\n",
    "run_params = [\n",
    "    {\"learning_rate\":.01,\"epoch\":100,\"hidden\":[10,20,4,8,3]},\n",
    "    {\"learning_rate\":.1,\"epoch\":100,\"hidden\":[7,5,3]}\n",
    "]\n",
    "input_layer = side_length*side_length*3\n",
    "losses = compare_runs(train_X, train_y, test_X, test_y, run_params, input_layer)"
   ]
  },
  {
   "cell_type": "markdown",
   "metadata": {},
   "source": [
    "## "
   ]
  }
 ],
 "metadata": {
  "kernelspec": {
   "display_name": "Python 3",
   "language": "python",
   "name": "python3"
  },
  "language_info": {
   "codemirror_mode": {
    "name": "ipython",
    "version": 3
   },
   "file_extension": ".py",
   "mimetype": "text/x-python",
   "name": "python",
   "nbconvert_exporter": "python",
   "pygments_lexer": "ipython3",
   "version": "3.6.3"
  }
 },
 "nbformat": 4,
 "nbformat_minor": 2
}
