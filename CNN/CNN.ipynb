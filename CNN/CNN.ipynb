{
 "cells": [
  {
   "cell_type": "code",
   "execution_count": 3,
   "metadata": {
    "collapsed": true
   },
   "outputs": [],
   "source": [
    "import numpy as np\n",
    "import scipy \n",
    "import os\n",
    "import matplotlib.pyplot as plot\n",
    "import math\n",
    "from scipy import ndimage\n",
    "from skimage import io\n",
    "\n",
    "plot.rcParams['image.interpolation'] = 'nearest'\n",
    "plot.rcParams['image.cmap'] = 'gray'"
   ]
  },
  {
   "cell_type": "markdown",
   "metadata": {},
   "source": [
    "Zero padding changes shape of inputs to conform to expected shapes\n",
    "\n",
    "x shape (num examples, height, width, 3)"
   ]
  },
  {
   "cell_type": "code",
   "execution_count": 4,
   "metadata": {
    "collapsed": true
   },
   "outputs": [],
   "source": [
    "def zeroPadding(x,pad_size): \n",
    "    x = np.pad(x, ((0, 0), (pad_size, pad_size), (pad_size, pad_size), (0,0)), \"constant\" )\n",
    "    return x "
   ]
  },
  {
   "cell_type": "code",
   "execution_count": 5,
   "metadata": {},
   "outputs": [
    {
     "name": "stdout",
     "output_type": "stream",
     "text": [
      "x (4, 3, 3, 2)\n",
      "PaddedX (4, 9, 9, 2)\n"
     ]
    },
    {
     "data": {
      "image/png": "[encoded data removed]",
      "text/plain": [
       "<matplotlib.figure.Figure at 0x1113669b0>"
      ]
     },
     "metadata": {},
     "output_type": "display_data"
    }
   ],
   "source": [
    "np.random.seed(17)\n",
    "x = np.random.randn(4,3,3,2)\n",
    "paddedX = zeroPadding(x,3)\n",
    "print(\"x\",x.shape)\n",
    "print(\"PaddedX\",paddedX.shape)\n",
    "\n",
    "figure, array = plot.subplots(1, 2)\n",
    "array[0].imshow(x[0, :, :, 0])\n",
    "#plot.show()\n",
    "array[1].imshow(paddedX[0, :, :, 0])\n",
    "plot.show()"
   ]
  },
  {
   "cell_type": "code",
   "execution_count": 6,
   "metadata": {
    "collapsed": true
   },
   "outputs": [],
   "source": [
    "def convolution(x, w, b):\n",
    "    # x.shape == (f, f, number of channels in previous layer)\n",
    "    # w.shape == (f, f, number of channels in previous layer)\n",
    "    # b.shape == (1, 1, 1)\n",
    "    z = x * w \n",
    "    z = np.sum(z) + float(b)\n",
    "    return z  "
   ]
  },
  {
   "cell_type": "code",
   "execution_count": 7,
   "metadata": {},
   "outputs": [
    {
     "name": "stdout",
     "output_type": "stream",
     "text": [
      "z 2.39921868021\n"
     ]
    }
   ],
   "source": [
    "np.random.seed(17)\n",
    "x = np.random.randn(4,4,3)\n",
    "w = np.random.randn(4,4,3)\n",
    "b = np.random.randn(1,1,1)\n",
    "z = convolution(x,w,b)\n",
    "print(\"z\",z)"
   ]
  },
  {
   "cell_type": "markdown",
   "metadata": {},
   "source": [
    "z = 28.7210842132"
   ]
  },
  {
   "cell_type": "code",
   "execution_count": 30,
   "metadata": {
    "collapsed": true
   },
   "outputs": [],
   "source": [
    "def convolveFoward(x, weights, b, stride_length, pad_value):\n",
    "    num_examples, height, width, pre_channels = np.shape(x)\n",
    "    window_side_length, window_side_length, pre_channels, cur_channels = np.shape(weights)\n",
    "    # Equation to compute new height and width dimensions\n",
    "    new_height = int((height + 2 * pad_value - window_side_length) / stride_length) + 1\n",
    "    new_width = int((width + 2 * pad_value - window_side_length) / stride_length) + 1\n",
    "    z = np.zeros((num_examples, new_height, new_width, cur_channels)) #new channels for z shape\n",
    "    #z is placeholders for output\n",
    "    paddedX = zeroPadding(x,pad_value)\n",
    "    print(\"widths\",new_width * window_side_length, width)\n",
    "    for i in range(num_examples):\n",
    "        curr_example = paddedX[i]\n",
    "        for h in range(new_height): #iterating through new heigth of layer dimensions\n",
    "            for w in range(new_width): #iterating through new width of layer dimensions\n",
    "                for c in range(cur_channels):\n",
    "                    #fetches current widow to convolve\n",
    "                    h_start = h * stride_length\n",
    "                    h_end = h_start + window_side_length\n",
    "                    w_start = w * stride_length\n",
    "                    w_end = w_start + window_side_length\n",
    "                    cur_slice = curr_example[h_start:h_end, w_start:w_end, :]\n",
    "                    \n",
    "                    cur_z = convolution(cur_slice,weights[:,:,:,c], b[:,:,:,c])\n",
    "                    z[i,h,w,c] = cur_z\n",
    "\n",
    "    cache = {\"w\":weights,\"b\":b,\"x\":x, \"stride_length\":stride_length,\"pad_value\":pad_value}\n",
    "    return z, cache"
   ]
  },
  {
   "cell_type": "code",
   "execution_count": 11,
   "metadata": {},
   "outputs": [
    {
     "name": "stdout",
     "output_type": "stream",
     "text": [
      "widths 8 4\n",
      "z shape (10, 4, 4, 8)\n",
      "mean 0.0489952035289\n"
     ]
    }
   ],
   "source": [
    "np.random.seed(1)\n",
    "x = np.random.randn(10,4,4,3)\n",
    "# weights (window_side_length, widnow_side_length, num channels in previous layer, new num channels)\n",
    "weights = np.random.randn(2,2,3,8)\n",
    "biases = np.random.randn(1,1,1,8)\n",
    "pad_value = 2\n",
    "stride_length = 2\n",
    "z,_ = convolveFoward(x,weights, biases, stride_length, pad_value)\n",
    "print(\"z shape\",np.shape(z))\n",
    "print(\"mean\",np.mean(z))\n",
    "\n"
   ]
  },
  {
   "cell_type": "code",
   "execution_count": 16,
   "metadata": {},
   "outputs": [],
   "source": [
    "def pool(X,pad_value,stride_length,pool_type):\n",
    "    num_examples, prev_height, prev_width, prev_num_channels = X.shape\n",
    "#     new_width = int((prev_width + 2 * pad_value - window_side_length) / stride_length) + 1\n",
    "#     new_height = int((prev_height + 2 * pad_value - window_side_length) / stride_length) + 1\n",
    "    new_width = int(((prev_width - pad_value) /stride_length) + 1)\n",
    "    new_height = int(((prev_height - pad_value) / stride_length) + 1)\n",
    "    z = np.zeros((num_examples,new_height,new_width,prev_num_channels))\n",
    "    for e in range(num_examples):\n",
    "        for w in range(new_width):\n",
    "            for h in range(new_height):\n",
    "                for c in range(prev_num_channels):\n",
    "                    h_start = h * stride_length\n",
    "                    h_end = h_start + pad_value\n",
    "                    w_start = w * stride_length\n",
    "                    w_end = w_start + pad_value\n",
    "                    cur_window = X[e,h_start:h_end,w_start:w_end,c]\n",
    "                    if pool_type == \"max\":\n",
    "                        z[e,h,w,c] = np.max(cur_window)\n",
    "                    if pool_type == \"avg\":\n",
    "                        z[e,h,w,c] = np.mean(cur_window)\n",
    "    cache = {\"x\":X, \"stride_length\":stride_length,\"pad_value\":pad_value}\n",
    "    return z, cache"
   ]
  },
  {
   "cell_type": "code",
   "execution_count": 22,
   "metadata": {},
   "outputs": [
    {
     "name": "stdout",
     "output_type": "stream",
     "text": [
      "(2, 1, 1, 3)\n",
      "max [[[[ 1.74481176  0.86540763  1.13376944]]]\n",
      "\n",
      "\n",
      " [[[ 1.13162939  1.51981682  2.18557541]]]]\n",
      "(2, 1, 1, 3)\n",
      "avg [[[[ 0.02105773 -0.20328806 -0.40389855]]]\n",
      "\n",
      "\n",
      " [[[-0.22154621  0.51716526  0.48155844]]]]\n"
     ]
    }
   ],
   "source": [
    "np.random.seed(1)\n",
    "X = np.random.randn(2,4,4,3)\n",
    "pad_value = 3\n",
    "stride_length = 2\n",
    "z , cache = pool(X, pad_value, stride_length, \"max\")\n",
    "print(z.shape)\n",
    "print(\"max\",z)\n",
    "z , cache = pool(X, pad_value, stride_length, \"avg\")\n",
    "print(z.shape)\n",
    "print(\"avg\",z)"
   ]
  },
  {
   "cell_type": "markdown",
   "metadata": {},
   "source": [
    "w/ np.random.seed(1) X = np.random.randn(2,4,4,3) pad_value = 3 stride_length = 2\n",
    "(2, 1, 1, 3)\n",
    "max [[[[ 1.74481176  0.86540763  1.13376944]]]\n",
    "\n",
    "\n",
    " [[[ 1.13162939  1.51981682  2.18557541]]]]\n",
    "(2, 1, 1, 3)\n",
    "avg [[[[ 0.02105773 -0.20328806 -0.40389855]]]\n",
    "\n",
    "\n",
    " [[[-0.22154621  0.51716526  0.48155844]]]]\n"
   ]
  },
  {
   "cell_type": "code",
   "execution_count": 65,
   "metadata": {},
   "outputs": [],
   "source": [
    "def convBack(dZ,cache):\n",
    "    weights, b, pad_value, x, stride_length, pad_value = cache[\"w\"], cache[\"b\"], cache[\"pad_value\"], cache[\"x\"], cache[\"stride_length\"], cache[\"pad_value\"]\n",
    "    num_examples, prev_height, prev_width, prev_num_channels = x.shape\n",
    "    window_height, window_width, prev_num_channels, cur_num_channels = weights.shape\n",
    "    num_examples, cur_height, cur_width, cur_num_channels  = dZ.shape\n",
    "    dW = np.zeros(weights.shape)\n",
    "    dB = np.zeros(b.shape)\n",
    "    dA = np.zeros(x.shape)\n",
    "    \n",
    "    dA_padded = zeroPadding(dA, pad_value)\n",
    "    x_padded = zeroPadding(x, pad_value)\n",
    "    \n",
    "    print(\"dA shape\", dA.shape)\n",
    "    for e in range(num_examples):\n",
    "        cur_example_dA = dA_padded[e,:,:,:]\n",
    "        cur_example_x = x_padded[e,:,:,:]\n",
    "        \n",
    "        for h in range(cur_height):\n",
    "            for w in range(cur_width):\n",
    "                for c in range(cur_num_channels):\n",
    "                    h_start = h * stride_length\n",
    "                    h_end = h_start + pad_value\n",
    "                    w_start = w * stride_length\n",
    "                    w_end = w_start + pad_value\n",
    "                    \n",
    "                    cur_slice_x = x_padded[h_start:h_end,w_start:w_end,c]\n",
    "                    cur_example_dA[h_start:h_end,w_start:w_end,:] += weights[:,:,:,c] * dZ[e,h,w,c]\n",
    "                    dW[:,:,:,c] += cur_slice_x * dZ[e,h,w,c]\n",
    "                    dB[:,:,:,c] += dZ[e,h,w,c]\n",
    "                    \n",
    "        dA[e,:,:,:] = dA[pad_value:-pad_value, pad_value:-pad_value, :] #unpads dA\n",
    "    grads = {\"dW\":dW,\"dB\":dB,\"dA\":dA}         \n",
    "    return grads        "
   ]
  },
  {
   "cell_type": "code",
   "execution_count": 66,
   "metadata": {},
   "outputs": [
    {
     "name": "stdout",
     "output_type": "stream",
     "text": [
      "widths 8 4\n",
      "dA shape (10, 4, 4, 3)\n"
     ]
    },
    {
     "ename": "ValueError",
     "evalue": "could not broadcast input array from shape (6,0,4,3) into shape (4,4,3)",
     "output_type": "error",
     "traceback": [
      "\u001b[0;31m---------------------------------------------------------------------------\u001b[0m",
      "\u001b[0;31mValueError\u001b[0m                                Traceback (most recent call last)",
      "\u001b[0;32m<ipython-input-66-0f5c6e730e94>\u001b[0m in \u001b[0;36m<module>\u001b[0;34m()\u001b[0m\n\u001b[1;32m      7\u001b[0m \u001b[0mstride_length\u001b[0m \u001b[0;34m=\u001b[0m \u001b[0;36m2\u001b[0m\u001b[0;34m\u001b[0m\u001b[0m\n\u001b[1;32m      8\u001b[0m \u001b[0mz\u001b[0m\u001b[0;34m,\u001b[0m\u001b[0mcache\u001b[0m \u001b[0;34m=\u001b[0m \u001b[0mconvolveFoward\u001b[0m\u001b[0;34m(\u001b[0m\u001b[0mx\u001b[0m\u001b[0;34m,\u001b[0m\u001b[0mweights\u001b[0m\u001b[0;34m,\u001b[0m \u001b[0mbiases\u001b[0m\u001b[0;34m,\u001b[0m \u001b[0mstride_length\u001b[0m\u001b[0;34m,\u001b[0m \u001b[0mpad_value\u001b[0m\u001b[0;34m)\u001b[0m\u001b[0;34m\u001b[0m\u001b[0m\n\u001b[0;32m----> 9\u001b[0;31m \u001b[0mconvBack\u001b[0m\u001b[0;34m(\u001b[0m\u001b[0mz\u001b[0m\u001b[0;34m,\u001b[0m\u001b[0mcache\u001b[0m\u001b[0;34m)\u001b[0m\u001b[0;34m\u001b[0m\u001b[0m\n\u001b[0m",
      "\u001b[0;32m<ipython-input-65-2806053c5aab>\u001b[0m in \u001b[0;36mconvBack\u001b[0;34m(dZ, cache)\u001b[0m\n\u001b[1;32m     29\u001b[0m                     \u001b[0mdB\u001b[0m\u001b[0;34m[\u001b[0m\u001b[0;34m:\u001b[0m\u001b[0;34m,\u001b[0m\u001b[0;34m:\u001b[0m\u001b[0;34m,\u001b[0m\u001b[0;34m:\u001b[0m\u001b[0;34m,\u001b[0m\u001b[0mc\u001b[0m\u001b[0;34m]\u001b[0m \u001b[0;34m+=\u001b[0m \u001b[0mdZ\u001b[0m\u001b[0;34m[\u001b[0m\u001b[0me\u001b[0m\u001b[0;34m,\u001b[0m\u001b[0mh\u001b[0m\u001b[0;34m,\u001b[0m\u001b[0mw\u001b[0m\u001b[0;34m,\u001b[0m\u001b[0mc\u001b[0m\u001b[0;34m]\u001b[0m\u001b[0;34m\u001b[0m\u001b[0m\n\u001b[1;32m     30\u001b[0m \u001b[0;34m\u001b[0m\u001b[0m\n\u001b[0;32m---> 31\u001b[0;31m         \u001b[0mdA\u001b[0m\u001b[0;34m[\u001b[0m\u001b[0me\u001b[0m\u001b[0;34m,\u001b[0m\u001b[0;34m:\u001b[0m\u001b[0;34m,\u001b[0m\u001b[0;34m:\u001b[0m\u001b[0;34m,\u001b[0m\u001b[0;34m:\u001b[0m\u001b[0;34m]\u001b[0m \u001b[0;34m=\u001b[0m \u001b[0mdA\u001b[0m\u001b[0;34m[\u001b[0m\u001b[0mpad_value\u001b[0m\u001b[0;34m:\u001b[0m\u001b[0;34m-\u001b[0m\u001b[0mpad_value\u001b[0m\u001b[0;34m,\u001b[0m \u001b[0mpad_value\u001b[0m\u001b[0;34m:\u001b[0m\u001b[0;34m-\u001b[0m\u001b[0mpad_value\u001b[0m\u001b[0;34m,\u001b[0m \u001b[0;34m:\u001b[0m\u001b[0;34m]\u001b[0m \u001b[0;31m#unpads dA\u001b[0m\u001b[0;34m\u001b[0m\u001b[0m\n\u001b[0m\u001b[1;32m     32\u001b[0m     \u001b[0mgrads\u001b[0m \u001b[0;34m=\u001b[0m \u001b[0;34m{\u001b[0m\u001b[0;34m\"dW\"\u001b[0m\u001b[0;34m:\u001b[0m\u001b[0mdW\u001b[0m\u001b[0;34m,\u001b[0m\u001b[0;34m\"dB\"\u001b[0m\u001b[0;34m:\u001b[0m\u001b[0mdB\u001b[0m\u001b[0;34m,\u001b[0m\u001b[0;34m\"dA\"\u001b[0m\u001b[0;34m:\u001b[0m\u001b[0mdA\u001b[0m\u001b[0;34m}\u001b[0m\u001b[0;34m\u001b[0m\u001b[0m\n\u001b[1;32m     33\u001b[0m     \u001b[0;32mreturn\u001b[0m \u001b[0mgrads\u001b[0m\u001b[0;34m\u001b[0m\u001b[0m\n",
      "\u001b[0;31mValueError\u001b[0m: could not broadcast input array from shape (6,0,4,3) into shape (4,4,3)"
     ]
    }
   ],
   "source": [
    "np.random.seed(1)\n",
    "x = np.random.randn(10,4,4,3)\n",
    "# weights (window_side_length, widnow_side_length, num channels in previous layer, new num channels)\n",
    "weights = np.random.randn(2,2,3,8)\n",
    "biases = np.random.randn(1,1,1,8)\n",
    "pad_value = 2\n",
    "stride_length = 2\n",
    "z,cache = convolveFoward(x,weights, biases, stride_length, pad_value)\n",
    "convBack(z,cache)"
   ]
  },
  {
   "cell_type": "code",
   "execution_count": 71,
   "metadata": {
    "collapsed": true
   },
   "outputs": [],
   "source": [
    "def init_mask(x):\n",
    "    return (x == np.max(x))"
   ]
  },
  {
   "cell_type": "code",
   "execution_count": 73,
   "metadata": {},
   "outputs": [
    {
     "name": "stdout",
     "output_type": "stream",
     "text": [
      "x [[ 1.62434536 -0.61175641 -0.52817175]\n",
      " [-1.07296862  0.86540763 -2.3015387 ]]\n",
      "mask [[ True False False]\n",
      " [False False False]]\n"
     ]
    }
   ],
   "source": [
    "np.random.seed(1)\n",
    "x = np.random.randn(2,3)\n",
    "mask = init_mask(x)\n",
    "print(\"x\",x)\n",
    "print(\"mask\",mask)"
   ]
  },
  {
   "cell_type": "code",
   "execution_count": 76,
   "metadata": {
    "collapsed": true
   },
   "outputs": [],
   "source": [
    "def int_avg_mask(avg,output_shape):\n",
    "    num_values = output_shape[0] *  output_shape[1]\n",
    "    value = avg/num_values\n",
    "    return np.ones(output_shape) * value\n"
   ]
  },
  {
   "cell_type": "code",
   "execution_count": 78,
   "metadata": {},
   "outputs": [
    {
     "name": "stdout",
     "output_type": "stream",
     "text": [
      "[[ 0.25  0.25]\n",
      " [ 0.25  0.25]]\n"
     ]
    }
   ],
   "source": [
    "x = int_avg_mask(1,(2,2))\n",
    "print(x)"
   ]
  },
  {
   "cell_type": "code",
   "execution_count": null,
   "metadata": {
    "collapsed": true
   },
   "outputs": [],
   "source": []
  }
 ],
 "metadata": {
  "kernelspec": {
   "display_name": "Python 3",
   "language": "python",
   "name": "python3"
  },
  "language_info": {
   "codemirror_mode": {
    "name": "ipython",
    "version": 3
   },
   "file_extension": ".py",
   "mimetype": "text/x-python",
   "name": "python",
   "nbconvert_exporter": "python",
   "pygments_lexer": "ipython3",
   "version": "3.6.3"
  }
 },
 "nbformat": 4,
 "nbformat_minor": 2
}
