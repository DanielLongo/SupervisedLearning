{
 "cells": [
  {
   "cell_type": "code",
   "execution_count": 127,
   "metadata": {},
   "outputs": [
    {
     "data": {
      "text/plain": [
       "<module 'getImageArrays' from '../Functions/getImageArrays.py'>"
      ]
     },
     "execution_count": 127,
     "metadata": {},
     "output_type": "execute_result"
    }
   ],
   "source": [
    "#reloads source files to get most recent edits\n",
    "import importlib\n",
    "importlib.reload(getImageArrays)"
   ]
  },
  {
   "cell_type": "code",
   "execution_count": 128,
   "metadata": {},
   "outputs": [],
   "source": [
    "import sys\n",
    "import numpy as np\n",
    "import tensorflow as tf\n",
    "sys.path.append(\"../Functions/\")\n",
    "# sys.path.remove(\"../Functions/\")\n",
    "from getImageArrays import getExamples\n",
    "from importlib import reload"
   ]
  },
  {
   "cell_type": "code",
   "execution_count": 129,
   "metadata": {},
   "outputs": [],
   "source": [
    "image_path = \"../Data/Logistic_Regression_Data/\"\n",
    "num_images = 100\n",
    "examples_per_batch = 16"
   ]
  },
  {
   "cell_type": "code",
   "execution_count": 130,
   "metadata": {},
   "outputs": [
    {
     "name": "stdout",
     "output_type": "stream",
     "text": [
      "Error in creating examples notcow197.jpg\n"
     ]
    }
   ],
   "source": [
    "train_x, train_y, test_x, test_y = getExamples(side_length=100, image_path=image_path , test_ratio=.2, max_num_images=num_images)\n",
    "train_x, train_y, test_x, test_y  = train_x.T, train_y.T, test_x.T, test_y.T\n",
    "assert((len(train_x) + len(test_x)) == num_images), \"Not sufficeint number of images\" "
   ]
  },
  {
   "cell_type": "code",
   "execution_count": 131,
   "metadata": {
    "collapsed": true
   },
   "outputs": [],
   "source": [
    "def createBatches(x, examples_per_batch):\n",
    "    final = []\n",
    "    for i in range(0, len(x), examples_per_batch):\n",
    "        start = i\n",
    "        end = start + examples_per_batch\n",
    "        #creates exclusively\n",
    "        if end >= len(x):\n",
    "            return np.array(final)\n",
    "        final += [x[start:end]]\n",
    "    return np.array(final)\n",
    "#         final += x[]"
   ]
  },
  {
   "cell_type": "code",
   "execution_count": 132,
   "metadata": {},
   "outputs": [],
   "source": [
    "train_x, train_y = createBatches(train_x, examples_per_batch), createBatches(train_y, examples_per_batch)\n",
    "test_x, test_y  = createBatches(test_x, examples_per_batch), createBatches(test_y, examples_per_batch)"
   ]
  },
  {
   "cell_type": "code",
   "execution_count": 133,
   "metadata": {
    "scrolled": true
   },
   "outputs": [
    {
     "name": "stdout",
     "output_type": "stream",
     "text": [
      "train_x (4, 16, 30000)\n",
      "train_y (4, 16, 1)\n",
      "test_x (1, 16, 30000)\n",
      "test_y (1, 16, 1)\n"
     ]
    }
   ],
   "source": [
    "print(\"train_x\", train_x.shape)\n",
    "print(\"train_y\", train_y.shape)\n",
    "print(\"test_x\", test_x.shape)\n",
    "print(\"test_y\", test_y.shape)"
   ]
  },
  {
   "cell_type": "code",
   "execution_count": null,
   "metadata": {
    "collapsed": true
   },
   "outputs": [],
   "source": []
  }
 ],
 "metadata": {
  "kernelspec": {
   "display_name": "Python 3",
   "language": "python",
   "name": "python3"
  },
  "language_info": {
   "codemirror_mode": {
    "name": "ipython",
    "version": 3
   },
   "file_extension": ".py",
   "mimetype": "text/x-python",
   "name": "python",
   "nbconvert_exporter": "python",
   "pygments_lexer": "ipython3",
   "version": "3.6.3"
  }
 },
 "nbformat": 4,
 "nbformat_minor": 2
}
